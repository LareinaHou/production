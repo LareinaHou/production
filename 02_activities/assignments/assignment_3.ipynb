{
 "cells": [
  {
   "cell_type": "markdown",
   "metadata": {},
   "source": [
    "# Assignment 3"
   ]
  },
  {
   "cell_type": "markdown",
   "metadata": {},
   "source": [
    "In this assigment, we will work with the *Forest Fire* data set. Please download the data from the [UCI Machine Learning Repository](https://archive.ics.uci.edu/dataset/162/forest+fires). Extract the data files into the subdirectory: `../data/fires/` (relative to `./src/`).\n",
    "\n",
    "## Objective\n",
    "\n",
    "+ The model objective is to predict the area affected by forest fires given the features set. \n",
    "+ The objective of this exercise is to assess your ability to construct and evaluate model pipelines.\n",
    "+ Please note: the instructions are not meant to be 100% prescriptive, but instead they are a set of minimum requirements. If you find predictive performance gains by applying additional steps, by all means show them. "
   ]
  },
  {
   "cell_type": "markdown",
   "metadata": {},
   "source": [
    "## Variable Description\n",
    "\n",
    "From the description file contained in the archive (`forestfires.names`), we obtain the following variable descriptions:\n",
    "\n",
    "1. X - x-axis spatial coordinate within the Montesinho park map: 1 to 9\n",
    "2. Y - y-axis spatial coordinate within the Montesinho park map: 2 to 9\n",
    "3. month - month of the year: \"jan\" to \"dec\" \n",
    "4. day - day of the week: \"mon\" to \"sun\"\n",
    "5. FFMC - FFMC index from the FWI system: 18.7 to 96.20\n",
    "6. DMC - DMC index from the FWI system: 1.1 to 291.3 \n",
    "7. DC - DC index from the FWI system: 7.9 to 860.6 \n",
    "8. ISI - ISI index from the FWI system: 0.0 to 56.10\n",
    "9. temp - temperature in Celsius degrees: 2.2 to 33.30\n",
    "10. RH - relative humidity in %: 15.0 to 100\n",
    "11. wind - wind speed in km/h: 0.40 to 9.40 \n",
    "12. rain - outside rain in mm/m2 : 0.0 to 6.4 \n",
    "13. area - the burned area of the forest (in ha): 0.00 to 1090.84 \n",
    "\n",
    "\n",
    "\n"
   ]
  },
  {
   "cell_type": "code",
   "execution_count": null,
   "metadata": {},
   "outputs": [],
   "source": []
  },
  {
   "cell_type": "markdown",
   "metadata": {},
   "source": [
    "\n",
    "\n",
    "\n",
    "\n",
    "### Specific Tasks\n",
    "\n",
    "+ Construct four model pipelines, out of combinations of the following components:\n",
    "\n",
    "    + Preprocessors:\n",
    "\n",
    "        - A simple processor that only scales numeric variables and recodes categorical variables.\n",
    "        - A transformation preprocessor that scales numeric variables and applies a non-linear transformation.\n",
    "    \n",
    "    + Regressor:\n",
    "\n",
    "        - A baseline regressor, which could be a [K-nearest neighbours model](https://open.spotify.com/track/4R3AU2pjv8ge2siX1fVbZs?si=b2712f32da0e4358) or a linear model like [Lasso](https://scikit-learn.org/stable/modules/generated/sklearn.linear_model.Lasso.html) or [Ridge Regressors](https://scikit-learn.org/stable/modules/generated/sklearn.linear_model.ridge_regression.html).\n",
    "        - An advanced regressor of your choice (e.g., Bagging, Boosting, SVR, etc.). TIP: select a tree-based method such that it does not take too long to run SHAP further below. \n",
    "\n",
    "+ Evaluate tune and evaluate each of the four model pipelines. \n",
    "\n",
    "    - Select a [performance metric](https://scikit-learn.org/stable/modules/linear_model.html) out of the following options: explained variance, max error, root mean squared error (RMSE), mean absolute error (MAE), r-squared.\n",
    "    - *TIPS*: \n",
    "    \n",
    "        * Out of the suggested metrics above, [some are correlation metrics, but this is a prediction problem](https://www.tmwr.org/performance#performance). Choose wisely (and don't choose the incorrect options.) \n",
    "\n",
    "+ Select the best-performing model and explain its predictions.\n",
    "\n",
    "    - Provide local explanations.\n",
    "    - Obtain global explanations and recommend a variable selection strategy.\n",
    "\n",
    "+ Export your model as a pickle file.\n",
    "\n",
    "\n",
    "You can work on the Jupyter notebook, as this experiment is fairly short (no need to use sacred). "
   ]
  },
  {
   "cell_type": "markdown",
   "metadata": {},
   "source": [
    "# Load the data\n",
    "\n",
    "Place the files in the ../../05_src/data/fires/ directory and load the appropriate file. "
   ]
  },
  {
   "cell_type": "code",
   "execution_count": 3,
   "metadata": {},
   "outputs": [],
   "source": [
    "# Load the libraries as required.\n",
    "import pandas as pd\n",
    "import os\n"
   ]
  },
  {
   "cell_type": "code",
   "execution_count": 4,
   "metadata": {},
   "outputs": [
    {
     "name": "stdout",
     "output_type": "stream",
     "text": [
      "<class 'pandas.core.frame.DataFrame'>\n",
      "RangeIndex: 517 entries, 0 to 516\n",
      "Data columns (total 13 columns):\n",
      " #   Column   Non-Null Count  Dtype  \n",
      "---  ------   --------------  -----  \n",
      " 0   coord_x  517 non-null    int64  \n",
      " 1   coord_y  517 non-null    int64  \n",
      " 2   month    517 non-null    object \n",
      " 3   day      517 non-null    object \n",
      " 4   ffmc     517 non-null    float64\n",
      " 5   dmc      517 non-null    float64\n",
      " 6   dc       517 non-null    float64\n",
      " 7   isi      517 non-null    float64\n",
      " 8   temp     517 non-null    float64\n",
      " 9   rh       517 non-null    int64  \n",
      " 10  wind     517 non-null    float64\n",
      " 11  rain     517 non-null    float64\n",
      " 12  area     517 non-null    float64\n",
      "dtypes: float64(8), int64(3), object(2)\n",
      "memory usage: 52.6+ KB\n"
     ]
    }
   ],
   "source": [
    "# Load data\n",
    "columns = [\n",
    "    'coord_x', 'coord_y', 'month', 'day', 'ffmc', 'dmc', 'dc', 'isi', 'temp', 'rh', 'wind', 'rain', 'area' \n",
    "]\n",
    "fires_dt = (pd.read_csv('C:/Users/huiho/production/05_src/data/fires/forestfires.csv', header = 0, names = columns))\n",
    "fires_dt.info()\n"
   ]
  },
  {
   "cell_type": "markdown",
   "metadata": {},
   "source": [
    "# Get X and Y\n",
    "\n",
    "Create the features data frame and target data."
   ]
  },
  {
   "cell_type": "code",
   "execution_count": 5,
   "metadata": {},
   "outputs": [
    {
     "name": "stdout",
     "output_type": "stream",
     "text": [
      "Features (X):\n",
      "   coord_x  coord_y month  day  ffmc   dmc     dc  isi  temp  rh  wind  rain\n",
      "0        7        5   mar  fri  86.2  26.2   94.3  5.1   8.2  51   6.7   0.0\n",
      "1        7        4   oct  tue  90.6  35.4  669.1  6.7  18.0  33   0.9   0.0\n",
      "2        7        4   oct  sat  90.6  43.7  686.9  6.7  14.6  33   1.3   0.0\n",
      "3        8        6   mar  fri  91.7  33.3   77.5  9.0   8.3  97   4.0   0.2\n",
      "4        8        6   mar  sun  89.3  51.3  102.2  9.6  11.4  99   1.8   0.0\n",
      "\n",
      "Target (Y):\n",
      "0    0.0\n",
      "1    0.0\n",
      "2    0.0\n",
      "3    0.0\n",
      "4    0.0\n",
      "Name: area, dtype: float64\n"
     ]
    }
   ],
   "source": [
    "# Create the features dataframe X\n",
    "X = fires_dt.drop(columns=['area'])\n",
    "\n",
    "# Create the target dataframe Y\n",
    "Y = fires_dt['area']\n",
    "\n",
    "# Display the first few rows of X and Y\n",
    "print(\"Features (X):\")\n",
    "print(X.head())\n",
    "print(\"\\nTarget (Y):\")\n",
    "print(Y.head())\n"
   ]
  },
  {
   "cell_type": "code",
   "execution_count": null,
   "metadata": {},
   "outputs": [],
   "source": []
  },
  {
   "cell_type": "markdown",
   "metadata": {},
   "source": [
    "# Preprocessing\n",
    "\n",
    "Create two [Column Transformers](https://scikit-learn.org/stable/modules/generated/sklearn.compose.ColumnTransformer.html), called preproc1 and preproc2, with the following guidelines:\n",
    "\n",
    "- Numerical variables\n",
    "\n",
    "    * (Preproc 1 and 2) Scaling: use a scaling method of your choice (Standard, Robust, Min-Max). \n",
    "    * Preproc 2 only: \n",
    "        \n",
    "        + Choose a transformation for any of your input variables (or several of them). Evaluate if this transformation is convenient.\n",
    "        + The choice of scaler is up to you.\n",
    "\n",
    "- Categorical variables: \n",
    "    \n",
    "    * (Preproc 1 and 2) Apply [one-hot encoding](https://scikit-learn.org/stable/modules/generated/sklearn.preprocessing.OneHotEncoder.html) where appropriate.\n",
    "\n",
    "\n",
    "+ The only difference between preproc1 and preproc2 is the non-linear transformation of the numerical variables.\n",
    "    \n"
   ]
  },
  {
   "cell_type": "markdown",
   "metadata": {},
   "source": [
    "### Preproc 1\n",
    "\n",
    "Create preproc1 below.\n",
    "\n",
    "+ Numeric: scaled variables, no other transforms.\n",
    "+ Categorical: one-hot encoding."
   ]
  },
  {
   "cell_type": "code",
   "execution_count": 6,
   "metadata": {},
   "outputs": [
    {
     "name": "stdout",
     "output_type": "stream",
     "text": [
      "ColumnTransformer(transformers=[('num', StandardScaler(),\n",
      "                                 ['coord_x', 'coord_y', 'ffmc', 'dmc', 'dc',\n",
      "                                  'isi', 'temp', 'rh', 'wind', 'rain']),\n",
      "                                ('cat', OneHotEncoder(handle_unknown='ignore'),\n",
      "                                 ['month', 'day'])])\n"
     ]
    }
   ],
   "source": [
    "from sklearn.compose import ColumnTransformer\n",
    "from sklearn.preprocessing import StandardScaler, OneHotEncoder\n",
    "\n",
    "# Define the numerical and categorical feature columns\n",
    "numerical_features = ['coord_x', 'coord_y', 'ffmc', 'dmc', 'dc', 'isi', 'temp', 'rh', 'wind', 'rain']\n",
    "categorical_features = ['month', 'day']\n",
    "\n",
    "# Create the ColumnTransformer for preproc1\n",
    "preproc1 = ColumnTransformer(\n",
    "    transformers=[\n",
    "        ('num', StandardScaler(), numerical_features),\n",
    "        ('cat', OneHotEncoder(handle_unknown='ignore'), categorical_features)\n",
    "    ]\n",
    ")\n",
    "\n",
    "# Display preproc1\n",
    "print(preproc1)\n"
   ]
  },
  {
   "cell_type": "markdown",
   "metadata": {},
   "source": [
    "### Preproc 2\n",
    "\n",
    "Create preproc1 below.\n",
    "\n",
    "+ Numeric: scaled variables, non-linear transformation to one or more variables.\n",
    "+ Categorical: one-hot encoding."
   ]
  },
  {
   "cell_type": "code",
   "execution_count": 7,
   "metadata": {},
   "outputs": [
    {
     "name": "stdout",
     "output_type": "stream",
     "text": [
      "ColumnTransformer(transformers=[('num',\n",
      "                                 Pipeline(steps=[('scaler', StandardScaler()),\n",
      "                                                 ('power',\n",
      "                                                  PowerTransformer())]),\n",
      "                                 ['coord_x', 'coord_y', 'ffmc', 'dmc', 'dc',\n",
      "                                  'isi', 'temp', 'rh', 'wind', 'rain']),\n",
      "                                ('cat', OneHotEncoder(handle_unknown='ignore'),\n",
      "                                 ['month', 'day'])])\n"
     ]
    }
   ],
   "source": [
    "from sklearn.compose import ColumnTransformer\n",
    "from sklearn.pipeline import Pipeline\n",
    "from sklearn.preprocessing import StandardScaler, PowerTransformer, OneHotEncoder\n",
    "\n",
    "# Create the ColumnTransformer for preproc2\n",
    "preproc2 = ColumnTransformer(\n",
    "    transformers=[\n",
    "        ('num', Pipeline(steps=[\n",
    "            ('scaler', StandardScaler()),\n",
    "            ('power', PowerTransformer())\n",
    "        ]), numerical_features),\n",
    "        ('cat', OneHotEncoder(handle_unknown='ignore'), categorical_features)\n",
    "    ]\n",
    ")\n",
    "\n",
    "\n",
    "# Display preproc2\n",
    "print(preproc2)\n"
   ]
  },
  {
   "cell_type": "markdown",
   "metadata": {},
   "source": [
    "## Model Pipeline\n",
    "\n",
    "\n",
    "Create a [model pipeline](https://scikit-learn.org/stable/modules/generated/sklearn.pipeline.Pipeline.html): \n",
    "\n",
    "+ Add a step labelled `preprocessing` and assign the Column Transformer from the previous section.\n",
    "+ Add a step labelled `regressor` and assign a regression model to it. \n",
    "\n",
    "## Regressor\n",
    "\n",
    "+ Use a regression model to perform a prediction. \n",
    "\n",
    "    - Choose a baseline regressor, tune it (if necessary) using grid search, and evaluate it using cross-validation.\n",
    "    - Choose a more advance regressor, tune it (if necessary) using grid search, and evaluate it using cross-validation.\n",
    "    - Both model choices are up to you, feel free to experiment."
   ]
  },
  {
   "cell_type": "code",
   "execution_count": 8,
   "metadata": {},
   "outputs": [
    {
     "name": "stdout",
     "output_type": "stream",
     "text": [
      "Pipeline A created successfully.\n"
     ]
    }
   ],
   "source": [
    "# Pipeline A = preproc1 + baseline\n",
    "from sklearn.neighbors import KNeighborsRegressor\n",
    "\n",
    "pipeline_A = Pipeline(steps=[\n",
    "    ('preprocessing', preproc1),\n",
    "    ('regressor', KNeighborsRegressor())\n",
    "])\n",
    "\n",
    "print(\"Pipeline A created successfully.\")\n"
   ]
  },
  {
   "cell_type": "code",
   "execution_count": 9,
   "metadata": {},
   "outputs": [
    {
     "name": "stdout",
     "output_type": "stream",
     "text": [
      "Pipeline B created successfully.\n"
     ]
    }
   ],
   "source": [
    "# Pipeline B = preproc2 + baseline\n",
    "\n",
    "pipeline_B = Pipeline(steps=[\n",
    "    ('preprocessing', preproc2),\n",
    "    ('regressor', KNeighborsRegressor())\n",
    "])\n",
    "\n",
    "print(\"Pipeline B created successfully.\")\n"
   ]
  },
  {
   "cell_type": "code",
   "execution_count": 10,
   "metadata": {},
   "outputs": [
    {
     "name": "stdout",
     "output_type": "stream",
     "text": [
      "Pipeline C created successfully.\n"
     ]
    }
   ],
   "source": [
    "# Pipeline C = preproc1 + advanced model\n",
    "from sklearn.ensemble import RandomForestRegressor\n",
    "\n",
    "pipeline_C = Pipeline(steps=[\n",
    "    ('preprocessing', preproc1),\n",
    "    ('regressor', RandomForestRegressor())\n",
    "])\n",
    "\n",
    "print(\"Pipeline C created successfully.\")\n"
   ]
  },
  {
   "cell_type": "code",
   "execution_count": 11,
   "metadata": {},
   "outputs": [
    {
     "name": "stdout",
     "output_type": "stream",
     "text": [
      "Pipeline D created successfully.\n"
     ]
    }
   ],
   "source": [
    "# Pipeline D = preproc2 + advanced model\n",
    "\n",
    "pipeline_D = Pipeline(steps=[\n",
    "    ('preprocessing', preproc2),\n",
    "    ('regressor', RandomForestRegressor())\n",
    "])\n",
    "\n",
    "print(\"Pipeline D created successfully.\")\n",
    "\n",
    "    "
   ]
  },
  {
   "cell_type": "markdown",
   "metadata": {},
   "source": [
    "# Tune Hyperparams\n",
    "\n",
    "+ Perform GridSearch on each of the four pipelines. \n",
    "+ Tune at least one hyperparameter per pipeline.\n",
    "+ Experiment with at least four value combinations per pipeline."
   ]
  },
  {
   "cell_type": "code",
   "execution_count": 12,
   "metadata": {},
   "outputs": [
    {
     "name": "stdout",
     "output_type": "stream",
     "text": [
      "Best parameters for Pipeline A: {'regressor__n_neighbors': 9}\n",
      "Best score for Pipeline A: -5031.7591945117065\n"
     ]
    }
   ],
   "source": [
    "from sklearn.model_selection import GridSearchCV\n",
    "\n",
    "# Define the parameter grid for Pipeline A\n",
    "param_grid_A = {\n",
    "    'regressor__n_neighbors': [3, 5, 7, 9]\n",
    "}\n",
    "\n",
    "# Perform GridSearchCV for Pipeline A\n",
    "grid_search_A = GridSearchCV(pipeline_A, param_grid=param_grid_A, cv=5, scoring='neg_mean_squared_error')\n",
    "grid_search_A.fit(X, Y)\n",
    "\n",
    "print(\"Best parameters for Pipeline A:\", grid_search_A.best_params_)\n",
    "print(\"Best score for Pipeline A:\", grid_search_A.best_score_)\n",
    "\n"
   ]
  },
  {
   "cell_type": "code",
   "execution_count": 13,
   "metadata": {},
   "outputs": [
    {
     "name": "stdout",
     "output_type": "stream",
     "text": [
      "Best parameters for Pipeline B: {'regressor__n_neighbors': 9}\n",
      "Best score for Pipeline B: -5122.853565840271\n"
     ]
    }
   ],
   "source": [
    "# Define the parameter grid for Pipeline B\n",
    "param_grid_B = {\n",
    "    'regressor__n_neighbors': [3, 5, 7, 9]\n",
    "}\n",
    "\n",
    "# Perform GridSearchCV for Pipeline B\n",
    "grid_search_B = GridSearchCV(pipeline_B, param_grid=param_grid_B, cv=5, scoring='neg_mean_squared_error')\n",
    "grid_search_B.fit(X, Y)\n",
    "\n",
    "print(\"Best parameters for Pipeline B:\", grid_search_B.best_params_)\n",
    "print(\"Best score for Pipeline B:\", grid_search_B.best_score_)\n"
   ]
  },
  {
   "cell_type": "code",
   "execution_count": 14,
   "metadata": {},
   "outputs": [
    {
     "name": "stdout",
     "output_type": "stream",
     "text": [
      "Best parameters for Pipeline C: {'regressor__n_estimators': 150}\n",
      "Best score for Pipeline C: -4785.652386887287\n"
     ]
    }
   ],
   "source": [
    "from sklearn.ensemble import RandomForestRegressor\n",
    "\n",
    "# Define the parameter grid for Pipeline C\n",
    "param_grid_C = {\n",
    "    'regressor__n_estimators': [50, 100, 150, 200]\n",
    "}\n",
    "\n",
    "# Perform GridSearchCV for Pipeline C\n",
    "grid_search_C = GridSearchCV(pipeline_C, param_grid=param_grid_C, cv=5, scoring='neg_mean_squared_error')\n",
    "grid_search_C.fit(X, Y)\n",
    "\n",
    "print(\"Best parameters for Pipeline C:\", grid_search_C.best_params_)\n",
    "print(\"Best score for Pipeline C:\", grid_search_C.best_score_)\n"
   ]
  },
  {
   "cell_type": "code",
   "execution_count": 15,
   "metadata": {},
   "outputs": [
    {
     "name": "stdout",
     "output_type": "stream",
     "text": [
      "Best parameters for Pipeline D: {'regressor__n_estimators': 100}\n",
      "Best score for Pipeline D: -4801.585216317813\n"
     ]
    }
   ],
   "source": [
    "# Define the parameter grid for Pipeline D\n",
    "param_grid_D = {\n",
    "    'regressor__n_estimators': [50, 100, 150, 200]\n",
    "}\n",
    "\n",
    "# Perform GridSearchCV for Pipeline D\n",
    "grid_search_D = GridSearchCV(pipeline_D, param_grid=param_grid_D, cv=5, scoring='neg_mean_squared_error')\n",
    "grid_search_D.fit(X, Y)\n",
    "\n",
    "print(\"Best parameters for Pipeline D:\", grid_search_D.best_params_)\n",
    "print(\"Best score for Pipeline D:\", grid_search_D.best_score_)\n"
   ]
  },
  {
   "cell_type": "code",
   "execution_count": null,
   "metadata": {},
   "outputs": [],
   "source": []
  },
  {
   "cell_type": "markdown",
   "metadata": {},
   "source": [
    "# Evaluate\n",
    "\n",
    "+ Which model has the best performance?"
   ]
  },
  {
   "cell_type": "markdown",
   "metadata": {},
   "source": [
    "Pipeline C has the best performance"
   ]
  },
  {
   "cell_type": "markdown",
   "metadata": {},
   "source": [
    "# Export\n",
    "\n",
    "+ Save the best performing model to a pickle file."
   ]
  },
  {
   "cell_type": "code",
   "execution_count": 16,
   "metadata": {},
   "outputs": [
    {
     "name": "stdout",
     "output_type": "stream",
     "text": [
      "Best performing model saved to 'best_model.pkl'.\n"
     ]
    }
   ],
   "source": [
    "import pickle\n",
    "\n",
    "# Save the best performing model to a pickle file\n",
    "with open('best_model.pkl', 'wb') as file:\n",
    "    pickle.dump(grid_search_C.best_estimator_, file)\n",
    "\n",
    "print(\"Best performing model saved to 'best_model.pkl'.\")\n"
   ]
  },
  {
   "cell_type": "code",
   "execution_count": null,
   "metadata": {},
   "outputs": [],
   "source": []
  },
  {
   "cell_type": "markdown",
   "metadata": {},
   "source": [
    "# Explain\n",
    "\n",
    "+ Use SHAP values to explain the following only for the best-performing model:\n",
    "\n",
    "    - Select an observation in your test set and explain which are the most important features that explain that observation's specific prediction.\n",
    "\n",
    "    - In general, across the complete training set, which features are the most and least important.\n",
    "\n",
    "+ If you were to remove features from the model, which ones would you remove? Why? How would you test that these features are actually enhancing model performance?"
   ]
  },
  {
   "cell_type": "code",
   "execution_count": 17,
   "metadata": {},
   "outputs": [],
   "source": [
    "import pickle\n",
    "\n",
    "# Load the best performing model from the pickle file\n",
    "with open('best_model.pkl', 'rb') as file:\n",
    "    best_model = pickle.load(file)\n"
   ]
  },
  {
   "cell_type": "code",
   "execution_count": 18,
   "metadata": {},
   "outputs": [],
   "source": [
    "# Select an observation from the test set\n",
    "observation = X.iloc[[0]]  # Using double brackets to keep it as a DataFrame\n",
    "\n",
    "# Apply the preprocessing step to the entire dataset and then to the observation\n",
    "preprocessed_data = best_model.named_steps['preprocessing'].fit_transform(X)\n",
    "observation_transformed = best_model.named_steps['preprocessing'].transform(observation)\n",
    "\n"
   ]
  },
  {
   "cell_type": "code",
   "execution_count": 37,
   "metadata": {},
   "outputs": [
    {
     "name": "stdout",
     "output_type": "stream",
     "text": [
      "           Feature  SHAP Value\n",
      "6        num__temp   -5.072925\n",
      "3         num__dmc   -3.457246\n",
      "8        num__wind    1.741497\n",
      "15  cat__month_jul   -1.129832\n",
      "4          num__dc    0.998520\n",
      "1     num__coord_y   -0.927036\n",
      "21  cat__month_sep   -0.856570\n",
      "7          num__rh   -0.741868\n",
      "2        num__ffmc    0.613909\n",
      "24    cat__day_sat   -0.449953\n",
      "23    cat__day_mon   -0.386893\n",
      "5         num__isi    0.250094\n",
      "25    cat__day_sun   -0.243619\n",
      "27    cat__day_tue   -0.233995\n",
      "22    cat__day_fri    0.198461\n",
      "26    cat__day_thu   -0.185919\n",
      "28    cat__day_wed   -0.111698\n",
      "13  cat__month_feb   -0.104303\n",
      "12  cat__month_dec   -0.074080\n",
      "20  cat__month_oct   -0.073659\n",
      "18  cat__month_may   -0.072907\n",
      "17  cat__month_mar    0.066643\n",
      "0     num__coord_x    0.035983\n",
      "10  cat__month_apr   -0.015272\n",
      "11  cat__month_aug   -0.008051\n",
      "16  cat__month_jun   -0.002705\n",
      "9        num__rain   -0.001375\n",
      "14  cat__month_jan    0.000966\n",
      "19  cat__month_nov    0.000000\n"
     ]
    }
   ],
   "source": [
    "import shap\n",
    "import numpy as np\n",
    "import pandas as pd\n",
    "\n",
    "explainer = shap.TreeExplainer(best_model.named_steps['regressor'])\n",
    "shap_values = explainer.shap_values(preprocessed_data)\n",
    "observation = X.iloc[[0]]\n",
    "observation_transformed = best_model.named_steps['preprocessing'].transform(observation)\n",
    "\n",
    "shap_values_observation = explainer.shap_values(observation_transformed)\n",
    "\n",
    "feature_names = best_model.named_steps['preprocessing'].get_feature_names_out()\n",
    "\n",
    "shap_df = pd.DataFrame({\n",
    "    'Feature': feature_names,\n",
    "    'SHAP Value': shap_values_observation[0]\n",
    "})\n",
    "\n",
    "shap_df['abs_SHAP'] = np.abs(shap_df['SHAP Value'])\n",
    "shap_df = shap_df.sort_values(by='abs_SHAP', ascending=False)\n",
    "\n",
    "print(shap_df[['Feature', 'SHAP Value']])\n",
    "\n"
   ]
  },
  {
   "cell_type": "markdown",
   "metadata": {},
   "source": [
    "*(Answer here.)*\n",
    "\n",
    "Temperature (num__temp) is the most important feature. SHAP Value: -5.07. Indicates that temperature has a substantial impact on the predicted burned area for this observation.\n",
    "\n",
    "\n",
    "Most Important Features: Features with the highest mean absolute SHAP values are the most important.\n",
    "Least Important Features: Features with the lowest mean absolute SHAP values are the least important.\n",
    "\n",
    "Remove features: cat__month_jan, cat__month_nov... Those one with lowest mean absolute SHAP, which means minimal contribution to the model predictions.\n",
    "\n",
    "1. Evaluate the performance of current model using cross-validation metrics\n",
    "2. Remove above features\n",
    "3. Re-Evaluate the performance of new model using same cross-validation metrics\n",
    "4. Compare the result with step 1 finding to see if there is an improvement or no changes\n",
    "5. Use statistical tests to determine if the performance difference between step 1 model and the new model (step 3 model) is statistically significant\n"
   ]
  },
  {
   "cell_type": "markdown",
   "metadata": {},
   "source": [
    "## Criteria\n",
    "\n",
    "The [rubric](./assignment_3_rubric_clean.xlsx) contains the criteria for assessment."
   ]
  },
  {
   "cell_type": "markdown",
   "metadata": {},
   "source": [
    "## Submission Information\n",
    "\n",
    "🚨 **Please review our [Assignment Submission Guide](https://github.com/UofT-DSI/onboarding/blob/main/onboarding_documents/submissions.md)** 🚨 for detailed instructions on how to format, branch, and submit your work. Following these guidelines is crucial for your submissions to be evaluated correctly.\n",
    "\n",
    "### Submission Parameters:\n",
    "* Submission Due Date: `HH:MM AM/PM - DD/MM/YYYY`\n",
    "* The branch name for your repo should be: `assignment-3`\n",
    "* What to submit for this assignment:\n",
    "    * This Jupyter Notebook (assignment_3.ipynb) should be populated and should be the only change in your pull request.\n",
    "* What the pull request link should look like for this assignment: `https://github.com/<your_github_username>/production/pull/<pr_id>`\n",
    "    * Open a private window in your browser. Copy and paste the link to your pull request into the address bar. Make sure you can see your pull request properly. This helps the technical facilitator and learning support staff review your submission easily.\n",
    "\n",
    "Checklist:\n",
    "- [ ] Created a branch with the correct naming convention.\n",
    "- [ ] Ensured that the repository is public.\n",
    "- [ ] Reviewed the PR description guidelines and adhered to them.\n",
    "- [ ] Verify that the link is accessible in a private browser window.\n",
    "\n",
    "If you encounter any difficulties or have questions, please don't hesitate to reach out to our team via our Slack at `#cohort-3-help`. Our Technical Facilitators and Learning Support staff are here to help you navigate any challenges."
   ]
  },
  {
   "cell_type": "markdown",
   "metadata": {},
   "source": [
    "# Reference\n",
    "\n",
    "Cortez,Paulo and Morais,Anbal. (2008). Forest Fires. UCI Machine Learning Repository. https://doi.org/10.24432/C5D88D."
   ]
  }
 ],
 "metadata": {
  "kernelspec": {
   "display_name": "dsi_participant",
   "language": "python",
   "name": "python3"
  },
  "language_info": {
   "codemirror_mode": {
    "name": "ipython",
    "version": 3
   },
   "file_extension": ".py",
   "mimetype": "text/x-python",
   "name": "python",
   "nbconvert_exporter": "python",
   "pygments_lexer": "ipython3",
   "version": "3.9.15"
  }
 },
 "nbformat": 4,
 "nbformat_minor": 2
}
